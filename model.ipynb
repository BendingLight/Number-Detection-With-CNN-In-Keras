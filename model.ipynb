{
 "cells": [
  {
   "cell_type": "markdown",
   "metadata": {
    "collapsed": true,
    "id": "kyjTGECxoiLr"
   },
   "source": [
    "# Building a Convolutional Neural Network (CNN) in Keras : Model Notebook"
   ]
  },
  {
   "cell_type": "code",
   "execution_count": 1,
   "metadata": {
    "colab": {
     "base_uri": "https://localhost:8080/"
    },
    "id": "5hjMyCicoiMM",
    "outputId": "1fe9e651-d870-4ff4-e121-9b9ebf39c74c"
   },
   "outputs": [
    {
     "name": "stderr",
     "output_type": "stream",
     "text": [
      "Using TensorFlow backend.\n"
     ]
    },
    {
     "name": "stdout",
     "output_type": "stream",
     "text": [
      "2.2.5\n"
     ]
    }
   ],
   "source": [
    "#importing keras to the notebook\n",
    "try:\n",
    "    import keras\n",
    "except ModuleNotFoundError:\n",
    "    !pip install keras==2.2.5\n",
    "    import keras\n",
    "print(keras.__version__)"
   ]
  },
  {
   "cell_type": "code",
   "execution_count": 2,
   "metadata": {
    "id": "MdK1fGrGoiMa"
   },
   "outputs": [],
   "source": [
    "#importing other libraries\n",
    "\n",
    "from keras.datasets import mnist\n",
    "from keras.utils import to_categorical\n",
    "# from keras.models import Sequential\n",
    "from tensorflow.keras.models import Sequential\n",
    "# from keras.layers import Conv2D, Flatten, Dense\n",
    "from tensorflow.keras.layers import Conv2D, Flatten, Dense\n",
    "\n",
    "import matplotlib.pyplot as plt"
   ]
  },
  {
   "cell_type": "code",
   "execution_count": 3,
   "metadata": {
    "colab": {
     "base_uri": "https://localhost:8080/"
    },
    "id": "5eog_71HoiMc",
    "outputId": "9f5ead8e-cda0-47f1-bb95-79aa2b901b4a"
   },
   "outputs": [],
   "source": [
    "#downloading MNIST dataset from keras datasets\n",
    "(train_x, train_y), (test_x, test_y) = mnist.load_data()"
   ]
  },
  {
   "cell_type": "code",
   "execution_count": 4,
   "metadata": {
    "colab": {
     "base_uri": "https://localhost:8080/"
    },
    "id": "RJbFw1yGoiMd",
    "outputId": "3a9f1406-f852-48de-8222-d25a9c464fe7"
   },
   "outputs": [
    {
     "name": "stdout",
     "output_type": "stream",
     "text": [
      "(60000, 28, 28) (10000, 28, 28)\n",
      "(60000,) (10000,)\n"
     ]
    }
   ],
   "source": [
    "print(train_x.shape, test_x.shape)\n",
    "print(train_y.shape, test_y.shape)"
   ]
  },
  {
   "cell_type": "markdown",
   "metadata": {
    "id": "c9cdhAxSoiMe"
   },
   "source": [
    "## Data Preprocessing\n",
    "1. __train_x and test_x :__ Here we used to scale down and grayscale the images for fast processing, but as it's already scalled to (28x28). I'll only change it to grayscale.\n",
    "2. __train_y and test_y :__ Converting categorical data to numerical data with one-hot encoding techniques. Example: 1 -> [0,0,0,0,0,0,0,0,0,1] or 2 -> [0,0,1,0,0,0,0,0,0,0]."
   ]
  },
  {
   "cell_type": "code",
   "execution_count": 5,
   "metadata": {
    "id": "W7IzLpxBoiMf"
   },
   "outputs": [],
   "source": [
    "#reshaping the images: (number_of_images, height, width, signifies images are grayscaled)\n",
    "train_x = train_x.reshape(60000, 28, 28, 1)\n",
    "test_x = test_x.reshape(10000, 28, 28, 1)"
   ]
  },
  {
   "cell_type": "code",
   "execution_count": 6,
   "metadata": {
    "colab": {
     "base_uri": "https://localhost:8080/"
    },
    "id": "hHGr5ICfoiMg",
    "outputId": "ef843685-6952-450e-d9e4-116343bf018a"
   },
   "outputs": [
    {
     "name": "stdout",
     "output_type": "stream",
     "text": [
      "Before:  5\n",
      "After :  [0. 0. 0. 0. 0. 1. 0. 0. 0. 0.]\n"
     ]
    }
   ],
   "source": [
    "#one-hot encoding of categorical data\n",
    "print(\"Before: \", train_y[0])\n",
    "train_y = to_categorical(train_y)\n",
    "test_y = to_categorical(test_y)\n",
    "print(\"After : \", train_y[0])"
   ]
  },
  {
   "cell_type": "markdown",
   "metadata": {
    "id": "Xs8iU4MjoiMk"
   },
   "source": [
    "## Building the Model\n",
    "1. __Sequential Model :__ A Sequential model is appropriate for a plain stack of layers where each layer has exactly one input tensor and one output tensor.\n",
    "2. __Adding Layers to NN :__ In this step we add layers to the model\n",
    "    * __1st layer :__ Initial _Conv2D_ entry layer where images will be fed\n",
    "    * __2nd layer :__ Connecting _Conv2D_ layer\n",
    "    * __3rd layer :__ _Flatten layer_\n",
    "    * __4th layer :__ Ouput _Dense_ layer"
   ]
  },
  {
   "cell_type": "code",
   "execution_count": 7,
   "metadata": {
    "id": "_uDJboCmoiMm"
   },
   "outputs": [],
   "source": [
    "#Initialising Model\n",
    "model = Sequential()\n",
    "\n",
    "#adding layers to the model\n",
    "model.add(Conv2D(filters=64, kernel_size=3, activation='relu', input_shape=(28,28,1)))\n",
    "model.add(Conv2D(filters=32, kernel_size=3, activation='relu'))\n",
    "model.add(Flatten())\n",
    "model.add(Dense(10, activation='softmax'))"
   ]
  },
  {
   "cell_type": "markdown",
   "metadata": {
    "id": "QD9Dw39YoiMp"
   },
   "source": [
    "## Compiling the model"
   ]
  },
  {
   "cell_type": "code",
   "execution_count": 8,
   "metadata": {
    "id": "z3RkVE9uoiMq"
   },
   "outputs": [],
   "source": [
    "#compile model using accuracy as a measure of model performance\n",
    "model.compile(optimizer='adam', loss='categorical_crossentropy', metrics=['accuracy'])"
   ]
  },
  {
   "cell_type": "markdown",
   "metadata": {
    "id": "PdRmTnmroiMr"
   },
   "source": [
    "## Training the Model\n",
    "* Training the model with training dataset.\n",
    "* Validating the model with test dataset.\n",
    "* epoched will be 3-5"
   ]
  },
  {
   "cell_type": "code",
   "execution_count": 9,
   "metadata": {
    "colab": {
     "base_uri": "https://localhost:8080/"
    },
    "id": "xmK-EzShoiMs",
    "outputId": "741d67f8-aee5-404a-93b8-f179ec78bc2e"
   },
   "outputs": [
    {
     "name": "stdout",
     "output_type": "stream",
     "text": [
      "Epoch 1/5\n",
      "1875/1875 [==============================] - 163s 86ms/step - loss: 0.6825 - accuracy: 0.9126 - val_loss: 0.0957 - val_accuracy: 0.9699\n",
      "Epoch 2/5\n",
      "1875/1875 [==============================] - 162s 86ms/step - loss: 0.0612 - accuracy: 0.9814 - val_loss: 0.0769 - val_accuracy: 0.9756\n",
      "Epoch 3/5\n",
      "1875/1875 [==============================] - 164s 88ms/step - loss: 0.0442 - accuracy: 0.9857 - val_loss: 0.0927 - val_accuracy: 0.9763\n",
      "Epoch 4/5\n",
      "1875/1875 [==============================] - 162s 86ms/step - loss: 0.0333 - accuracy: 0.9891 - val_loss: 0.0929 - val_accuracy: 0.9783\n",
      "Epoch 5/5\n",
      "1875/1875 [==============================] - 156s 83ms/step - loss: 0.0261 - accuracy: 0.9917 - val_loss: 0.0987 - val_accuracy: 0.9788\n"
     ]
    },
    {
     "data": {
      "text/plain": [
       "<tensorflow.python.keras.callbacks.History at 0x7f1b404ab190>"
      ]
     },
     "execution_count": 9,
     "metadata": {},
     "output_type": "execute_result"
    }
   ],
   "source": [
    "model.fit(train_x, train_y, validation_data=(test_x, test_y), epochs=5)"
   ]
  },
  {
   "cell_type": "markdown",
   "metadata": {
    "id": "6lhqBMA5v1iA"
   },
   "source": [
    "## Predicting Model\n",
    "* Evaluate __test_x__ data set to predict the lable.\n",
    "* __Rounding-up__ the prediction results.\n",
    "* Compairing the __Predicted__ and __True values__."
   ]
  },
  {
   "cell_type": "code",
   "execution_count": 17,
   "metadata": {
    "id": "iWt2sV-loiMt"
   },
   "outputs": [],
   "source": [
    "#show predictions for the first 4 images in the test set\n",
    "prediction = model.predict(test_x[:4])"
   ]
  },
  {
   "cell_type": "code",
   "execution_count": 27,
   "metadata": {
    "colab": {
     "base_uri": "https://localhost:8080/"
    },
    "id": "wnX3_xeCvvqx",
    "outputId": "2ab66bd6-32a2-4e7d-f8df-f8a023e40792"
   },
   "outputs": [
    {
     "data": {
      "text/plain": [
       "array([[0., 0., 0., 0., 0., 0., 0., 1., 0., 0.],\n",
       "       [0., 0., 1., 0., 0., 0., 0., 0., 0., 0.],\n",
       "       [0., 1., 0., 0., 0., 0., 0., 0., 0., 0.],\n",
       "       [1., 0., 0., 0., 0., 0., 0., 0., 0., 0.]], dtype=float32)"
      ]
     },
     "execution_count": 27,
     "metadata": {
      "tags": []
     },
     "output_type": "execute_result"
    }
   ],
   "source": [
    "#importing numpy to use round() function\n",
    "import numpy as np\n",
    "\n",
    "prediction = np.round(prediction, decimals=1)\n",
    "prediction"
   ]
  },
  {
   "cell_type": "code",
   "execution_count": 28,
   "metadata": {
    "colab": {
     "base_uri": "https://localhost:8080/"
    },
    "id": "Xz9lpp9wwzLg",
    "outputId": "762bbadb-6ced-4f85-e77d-c6e5ff124622"
   },
   "outputs": [
    {
     "data": {
      "text/plain": [
       "array([[0., 0., 0., 0., 0., 0., 0., 1., 0., 0.],\n",
       "       [0., 0., 1., 0., 0., 0., 0., 0., 0., 0.],\n",
       "       [0., 1., 0., 0., 0., 0., 0., 0., 0., 0.],\n",
       "       [1., 0., 0., 0., 0., 0., 0., 0., 0., 0.]], dtype=float32)"
      ]
     },
     "execution_count": 28,
     "metadata": {
      "tags": []
     },
     "output_type": "execute_result"
    }
   ],
   "source": [
    "test_y[:4]"
   ]
  },
  {
   "cell_type": "markdown",
   "metadata": {
    "id": "mknqEmeEybYR"
   },
   "source": [
    "# Saving the Model\n",
    "* __h5 Format :__ _Conventional_ and _light weight_ keras H5 format containg architecture, weights and compile() information in a __single file__.\n",
    "* __TensorFlow SavedModel format :__ This is the new and default savedmodel format."
   ]
  },
  {
   "cell_type": "code",
   "execution_count": 29,
   "metadata": {
    "id": "WxB0M2RvxkLn"
   },
   "outputs": [],
   "source": [
    "#Saving model in keras conventional file format '.h5' \n",
    "model.save('h5_model/model', save_format='h5')"
   ]
  },
  {
   "cell_type": "code",
   "execution_count": 27,
   "metadata": {
    "id": "_B6omHAoy-2K"
   },
   "outputs": [
    {
     "name": "stdout",
     "output_type": "stream",
     "text": [
      "INFO:tensorflow:Assets written to: /home/roy/Documents/DS Workspace/projects/number-detection-with-CNN-in-keras/tf_model/assets\n"
     ]
    }
   ],
   "source": [
    "#Saving model in new TensorFlow SavedModel file format\n",
    "model.save('/home/roy/Documents/DS Workspace/projects/number-detection-with-CNN-in-keras/tf_model/')"
   ]
  },
  {
   "cell_type": "markdown",
   "metadata": {},
   "source": [
    "## Observations\n",
    "* The CNN model achieved an accuracy of __97.88%__ after 5th epoch.\n",
    "* Explored different types __model saving formats__ and their advantages.\n"
   ]
  }
 ],
 "metadata": {
  "colab": {
   "collapsed_sections": [],
   "name": "model.ipynb",
   "provenance": []
  },
  "kernelspec": {
   "display_name": "Python 3",
   "language": "python",
   "name": "python3"
  },
  "language_info": {
   "codemirror_mode": {
    "name": "ipython",
    "version": 3
   },
   "file_extension": ".py",
   "mimetype": "text/x-python",
   "name": "python",
   "nbconvert_exporter": "python",
   "pygments_lexer": "ipython3",
   "version": "3.8.5"
  }
 },
 "nbformat": 4,
 "nbformat_minor": 1
}
