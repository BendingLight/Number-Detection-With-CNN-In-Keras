{
  "nbformat": 4,
  "nbformat_minor": 0,
  "metadata": {
    "colab": {
      "name": "model.ipynb",
      "provenance": [],
      "collapsed_sections": []
    },
    "kernelspec": {
      "display_name": "Python 3",
      "language": "python",
      "name": "python3"
    },
    "language_info": {
      "codemirror_mode": {
        "name": "ipython",
        "version": 3
      },
      "file_extension": ".py",
      "mimetype": "text/x-python",
      "name": "python",
      "nbconvert_exporter": "python",
      "pygments_lexer": "ipython3",
      "version": "3.8.5"
    },
    "accelerator": "GPU"
  },
  "cells": [
    {
      "cell_type": "markdown",
      "metadata": {
        "collapsed": true,
        "id": "kyjTGECxoiLr"
      },
      "source": [
        "# Building a Convolutional Neural Network (CNN) in Keras : Model Notebook"
      ]
    },
    {
      "cell_type": "code",
      "metadata": {
        "colab": {
          "base_uri": "https://localhost:8080/"
        },
        "id": "5hjMyCicoiMM",
        "outputId": "ceeb2731-fb45-4368-e818-67529fb75698"
      },
      "source": [
        "# importing tensorflow to the notebook\n",
        "try:\n",
        "    import tensorflow\n",
        "except ModuleNotFoundError:\n",
        "    !pip install tensorflow\n",
        "    import tensorflow\n",
        "print(tensorflow.__version__)"
      ],
      "execution_count": 1,
      "outputs": [
        {
          "output_type": "stream",
          "text": [
            "2.4.1\n"
          ],
          "name": "stdout"
        }
      ]
    },
    {
      "cell_type": "code",
      "metadata": {
        "id": "MdK1fGrGoiMa"
      },
      "source": [
        "# importing other libraries\n",
        "\n",
        "from tensorflow.keras.datasets import mnist\n",
        "from tensorflow.keras.utils import to_categorical\n",
        "from tensorflow.keras.models import Sequential\n",
        "from tensorflow.keras.layers import Conv2D, Flatten, Dense\n",
        "\n",
        "import matplotlib.pyplot as plt"
      ],
      "execution_count": 2,
      "outputs": []
    },
    {
      "cell_type": "code",
      "metadata": {
        "colab": {
          "base_uri": "https://localhost:8080/"
        },
        "id": "5eog_71HoiMc",
        "outputId": "d0d4dee0-b590-4a3f-b761-ef77c7d40380"
      },
      "source": [
        "# downloading MNIST dataset from keras datasets\n",
        "(train_images, train_labels), (test_images, test_labels) = mnist.load_data()"
      ],
      "execution_count": 3,
      "outputs": [
        {
          "output_type": "stream",
          "text": [
            "Downloading data from https://storage.googleapis.com/tensorflow/tf-keras-datasets/mnist.npz\n",
            "11493376/11490434 [==============================] - 0s 0us/step\n"
          ],
          "name": "stdout"
        }
      ]
    },
    {
      "cell_type": "code",
      "metadata": {
        "colab": {
          "base_uri": "https://localhost:8080/"
        },
        "id": "RJbFw1yGoiMd",
        "outputId": "482f162e-0101-47cc-c4ee-74b80dd45093"
      },
      "source": [
        "# training dataset\n",
        "print(train_images.shape, train_labels.shape)\n",
        "# testing dataset\n",
        "print(test_images.shape, test_labels.shape)"
      ],
      "execution_count": 4,
      "outputs": [
        {
          "output_type": "stream",
          "text": [
            "(60000, 28, 28) (60000,)\n",
            "(10000, 28, 28) (10000,)\n"
          ],
          "name": "stdout"
        }
      ]
    },
    {
      "cell_type": "markdown",
      "metadata": {
        "id": "c9cdhAxSoiMe"
      },
      "source": [
        "## Data Preprocessing\n",
        "1. __train_images and test_images :__ Here we used to scale down [0.1-1.0] and grayscale the images for fast processing, but as it's already scalled to (28x28). I'll only change it to grayscale.\n",
        "2. __train_labels and test_labels :__ Converting categorical data to numerical data with one-hot encoding techniques. Example: 1 -> [0,0,0,0,0,0,0,0,0,1] or 2 -> [0,0,1,0,0,0,0,0,0,0]."
      ]
    },
    {
      "cell_type": "code",
      "metadata": {
        "id": "W7IzLpxBoiMf"
      },
      "source": [
        "# reshaping the images: (number_of_images, height, width, signifies images are grayscaled)\n",
        "train_images = train_images.reshape(len(train_images), 28, 28, 1)\n",
        "test_images = test_images.reshape(len(test_images), 28, 28, 1)\n",
        "\n",
        "# normalizing image intensity\n",
        "train_images = train_images/255.0\n",
        "test_images = test_images/255.0"
      ],
      "execution_count": 5,
      "outputs": []
    },
    {
      "cell_type": "code",
      "metadata": {
        "colab": {
          "base_uri": "https://localhost:8080/"
        },
        "id": "hHGr5ICfoiMg",
        "outputId": "69b36234-cb87-4094-9dae-bfd48ac8862a"
      },
      "source": [
        "#one-hot encoding of categorical data\n",
        "print(\"Before: \", train_labels[0])\n",
        "train_labels = to_categorical(train_labels)\n",
        "test_labels = to_categorical(test_labels)\n",
        "print(\"After : \", train_labels[0])"
      ],
      "execution_count": 6,
      "outputs": [
        {
          "output_type": "stream",
          "text": [
            "Before:  5\n",
            "After :  [0. 0. 0. 0. 0. 1. 0. 0. 0. 0.]\n"
          ],
          "name": "stdout"
        }
      ]
    },
    {
      "cell_type": "markdown",
      "metadata": {
        "id": "Xs8iU4MjoiMk"
      },
      "source": [
        "## Building the Model\n",
        "1. __Sequential Model :__ A Sequential model is appropriate for a plain stack of layers where each layer has exactly one input tensor and one output tensor.\n",
        "2. __Adding Layers to NN :__ In this step we add layers to the model\n",
        "    * __1st layer :__ Initial _Conv2D_ entry layer where images will be fed\n",
        "    * __2nd layer :__ Connecting _Conv2D_ layer\n",
        "    * __3rd layer :__ _Flatten layer_\n",
        "    * __4th layer :__ Ouput _Dense_ layer"
      ]
    },
    {
      "cell_type": "code",
      "metadata": {
        "id": "_uDJboCmoiMm"
      },
      "source": [
        "#Initialising Model\n",
        "model = Sequential()\n",
        "\n",
        "#adding layers to the model\n",
        "model.add(Conv2D(filters=64, kernel_size=3, activation='relu', input_shape=(28,28,1)))\n",
        "model.add(Conv2D(filters=32, kernel_size=3, activation='relu'))\n",
        "model.add(Flatten())\n",
        "model.add(Dense(10, activation='softmax'))"
      ],
      "execution_count": 7,
      "outputs": []
    },
    {
      "cell_type": "markdown",
      "metadata": {
        "id": "QD9Dw39YoiMp"
      },
      "source": [
        "## Compiling the model"
      ]
    },
    {
      "cell_type": "code",
      "metadata": {
        "id": "z3RkVE9uoiMq"
      },
      "source": [
        "#compile model using accuracy as a measure of model performance\n",
        "model.compile(optimizer='adam', loss='categorical_crossentropy', metrics=['accuracy'])"
      ],
      "execution_count": 8,
      "outputs": []
    },
    {
      "cell_type": "markdown",
      "metadata": {
        "id": "PdRmTnmroiMr"
      },
      "source": [
        "## Training the Model\n",
        "* Training the model with training dataset.\n",
        "* Validating the model with test dataset.\n",
        "* epoched will be 3-5"
      ]
    },
    {
      "cell_type": "code",
      "metadata": {
        "colab": {
          "base_uri": "https://localhost:8080/"
        },
        "id": "xmK-EzShoiMs",
        "outputId": "12493e72-28a9-4dda-b5b3-bd9f62018143"
      },
      "source": [
        "model.fit(train_images, train_labels, validation_data=(test_images, test_labels), epochs=5)"
      ],
      "execution_count": 9,
      "outputs": [
        {
          "output_type": "stream",
          "text": [
            "Epoch 1/5\n",
            "1875/1875 [==============================] - 48s 10ms/step - loss: 0.2533 - accuracy: 0.9228 - val_loss: 0.0629 - val_accuracy: 0.9811\n",
            "Epoch 2/5\n",
            "1875/1875 [==============================] - 18s 10ms/step - loss: 0.0469 - accuracy: 0.9852 - val_loss: 0.0485 - val_accuracy: 0.9846\n",
            "Epoch 3/5\n",
            "1875/1875 [==============================] - 18s 9ms/step - loss: 0.0283 - accuracy: 0.9906 - val_loss: 0.0389 - val_accuracy: 0.9873\n",
            "Epoch 4/5\n",
            "1875/1875 [==============================] - 18s 9ms/step - loss: 0.0159 - accuracy: 0.9948 - val_loss: 0.0498 - val_accuracy: 0.9863\n",
            "Epoch 5/5\n",
            "1875/1875 [==============================] - 17s 9ms/step - loss: 0.0111 - accuracy: 0.9966 - val_loss: 0.0504 - val_accuracy: 0.9881\n"
          ],
          "name": "stdout"
        },
        {
          "output_type": "execute_result",
          "data": {
            "text/plain": [
              "<tensorflow.python.keras.callbacks.History at 0x7fadd0601510>"
            ]
          },
          "metadata": {
            "tags": []
          },
          "execution_count": 9
        }
      ]
    },
    {
      "cell_type": "markdown",
      "metadata": {
        "id": "6lhqBMA5v1iA"
      },
      "source": [
        "## Predicting Model\n",
        "* Evaluate __test_x__ data set to predict the lable.\n",
        "* __Rounding-up__ the prediction results.\n",
        "* Compairing the __Predicted__ and __True values__."
      ]
    },
    {
      "cell_type": "code",
      "metadata": {
        "id": "iWt2sV-loiMt"
      },
      "source": [
        "#show predictions for the first 4 images in the test set\n",
        "prediction = model.predict(test_images[:4])"
      ],
      "execution_count": 10,
      "outputs": []
    },
    {
      "cell_type": "code",
      "metadata": {
        "colab": {
          "base_uri": "https://localhost:8080/"
        },
        "id": "wnX3_xeCvvqx",
        "outputId": "0796f9c1-d126-422d-cfa5-0de4f21e754d"
      },
      "source": [
        "#importing numpy to use round() function\n",
        "import numpy as np\n",
        "\n",
        "prediction = np.round(prediction, decimals=1)\n",
        "prediction"
      ],
      "execution_count": 11,
      "outputs": [
        {
          "output_type": "execute_result",
          "data": {
            "text/plain": [
              "array([[0., 0., 0., 0., 0., 0., 0., 1., 0., 0.],\n",
              "       [0., 0., 1., 0., 0., 0., 0., 0., 0., 0.],\n",
              "       [0., 1., 0., 0., 0., 0., 0., 0., 0., 0.],\n",
              "       [1., 0., 0., 0., 0., 0., 0., 0., 0., 0.]], dtype=float32)"
            ]
          },
          "metadata": {
            "tags": []
          },
          "execution_count": 11
        }
      ]
    },
    {
      "cell_type": "code",
      "metadata": {
        "colab": {
          "base_uri": "https://localhost:8080/"
        },
        "id": "Xz9lpp9wwzLg",
        "outputId": "8e6254fb-38b3-41ca-936c-2c04bc894159"
      },
      "source": [
        "test_labels[:4]"
      ],
      "execution_count": 12,
      "outputs": [
        {
          "output_type": "execute_result",
          "data": {
            "text/plain": [
              "array([[0., 0., 0., 0., 0., 0., 0., 1., 0., 0.],\n",
              "       [0., 0., 1., 0., 0., 0., 0., 0., 0., 0.],\n",
              "       [0., 1., 0., 0., 0., 0., 0., 0., 0., 0.],\n",
              "       [1., 0., 0., 0., 0., 0., 0., 0., 0., 0.]], dtype=float32)"
            ]
          },
          "metadata": {
            "tags": []
          },
          "execution_count": 12
        }
      ]
    },
    {
      "cell_type": "markdown",
      "metadata": {
        "id": "mknqEmeEybYR"
      },
      "source": [
        "# Saving the Model\n",
        "* __h5 Format :__ _Conventional_ and _light weight_ keras H5 format containg architecture, weights and compile() information in a __single file__.\n",
        "* __TensorFlow SavedModel format :__ This is the new and default savedmodel format."
      ]
    },
    {
      "cell_type": "code",
      "metadata": {
        "id": "WxB0M2RvxkLn"
      },
      "source": [
        "#Saving model in keras conventional file format '.h5' \n",
        "model.save('h5_model/model', save_format='h5')"
      ],
      "execution_count": 13,
      "outputs": []
    },
    {
      "cell_type": "code",
      "metadata": {
        "id": "_B6omHAoy-2K",
        "outputId": "384a74cf-af99-44b1-b61e-6246f690bc32",
        "colab": {
          "base_uri": "https://localhost:8080/"
        }
      },
      "source": [
        "#Saving model in new TensorFlow SavedModel file format\n",
        "model.save('/home/roy/Documents/DS Workspace/projects/number-detection-with-CNN-in-keras/tf_model/')"
      ],
      "execution_count": 14,
      "outputs": [
        {
          "output_type": "stream",
          "text": [
            "INFO:tensorflow:Assets written to: /home/roy/Documents/DS Workspace/projects/number-detection-with-CNN-in-keras/tf_model/assets\n"
          ],
          "name": "stdout"
        }
      ]
    },
    {
      "cell_type": "markdown",
      "metadata": {
        "id": "jIqT9T58NDTP"
      },
      "source": [
        "## Observations\n",
        "* The CNN model achieved an accuracy of __98.81%__ after 5th epoch.\n",
        "* Explored different types __model saving formats__ and their advantages.\n"
      ]
    },
    {
      "cell_type": "code",
      "metadata": {
        "id": "xcxS_NCgQO6P"
      },
      "source": [
        ""
      ],
      "execution_count": null,
      "outputs": []
    }
  ]
}